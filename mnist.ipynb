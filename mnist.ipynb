{
 "cells": [
  {
   "cell_type": "code",
   "execution_count": 6,
   "metadata": {},
   "outputs": [],
   "source": [
    "import torch\n",
    "import torch.nn as nn\n",
    "import torch.nn.functional as F\n",
    "import torch.optim as optim\n",
    "from torchvision.datasets import MNIST\n",
    "from torch.utils.data import DataLoader\n",
    "from torchvision.transforms import transforms\n",
    "import numpy as np \n",
    "import matplotlib.pyplot as plt\n",
    "import time"
   ]
  },
  {
   "cell_type": "code",
   "execution_count": 2,
   "metadata": {},
   "outputs": [
    {
     "data": {
      "text/plain": [
       "torch.Size([50, 5, 26, 26])"
      ]
     },
     "execution_count": 2,
     "metadata": {},
     "output_type": "execute_result"
    }
   ],
   "source": [
    "img = torch.randn(size=(50, 3, 28, 28))\n",
    "conv_weight = torch.rand(size=(5, 3, 3, 3))\n",
    "F.conv2d(img, conv_weight).shape"
   ]
  },
  {
   "cell_type": "code",
   "execution_count": 3,
   "metadata": {},
   "outputs": [
    {
     "data": {
      "image/png": "[encoded data removed]",
      "text/plain": [
       "<Figure size 1296x360 with 10 Axes>"
      ]
     },
     "metadata": {
      "needs_background": "light"
     },
     "output_type": "display_data"
    }
   ],
   "source": [
    "torch.random.manual_seed(1)\n",
    "\n",
    "compose = transforms.Compose([\n",
    "                transforms.ToTensor(),\n",
    "                transforms.ColorJitter(brightness=0.5, contrast=0.2, saturation=0.2, hue=0.2), \n",
    "                transforms.Normalize(mean=(0.1307), std=(0.3079)),\n",
    "            ])\n",
    "\n",
    "\"\"\" \n",
    "Brightness merujuk pada kecerahan atau kegelapan keseluruhan gambar. \n",
    "Brightness tinggi terlihat lebih terang, \n",
    "Brightness rendah terlihat lebih gelap.\n",
    "\n",
    "Contrast, merujuk pada perbedaan antara area terang dan gelap dalam gambar. \n",
    "Kontras tinggi memiliki perbedaan yang lebih besar antara area terang dan gelap, \n",
    "Kontras rendah memiliki perbedaan yang lebih kecil.\n",
    "\n",
    "Hue (warna) adalah istilah yang digunakan untuk menggambarkan warna khusus dalam gambar, \n",
    "seperti merah, biru, atau hijau.\n",
    "\n",
    "Saturation merujuk pada intensitas atau kemurnian warna dalam gambar. \n",
    "Gambar dengan saturasi yang tinggi memiliki warna yang lebih hidup dan mencolok, \n",
    "sementara gambar yang tidak jenuh memiliki warna yang lebih redup atau pudar.\n",
    "\"\"\"\n",
    "\n",
    "mnist_train = MNIST(\n",
    "                root=r'mnist_dataset/train', \n",
    "                train=True, \n",
    "                transform=compose,\n",
    "                download=False\n",
    "            )\n",
    "\n",
    "mnist_test = MNIST(\n",
    "                root=r'mnist_dataset/test', \n",
    "                train=False, \n",
    "                transform=compose,\n",
    "                download=False\n",
    "            )\n",
    "\n",
    "trainloader = DataLoader(mnist_train, batch_size=256, shuffle=True)\n",
    "testloader = DataLoader(mnist_test, batch_size=256, shuffle=True)\n",
    "\n",
    "# Todo: get mean and std for normalization\n",
    "# numbatch = trainloader.__len__()\n",
    "# mean, std = 0, 0\n",
    "# for i in trainloader:\n",
    "#     mean += i[0].mean()\n",
    "#     std += i[0].std()\n",
    "\n",
    "# print(mean / numbatch, std / numbatch)\n",
    "\n",
    "data, label = iter(trainloader).next()\n",
    "show = 10 # kelipatan 5\n",
    "ax_idx = 0\n",
    "fig, ax = plt.subplots(nrows=show//5, ncols=5, figsize=(18, 5))\n",
    "for i in range(show // 5): \n",
    "    for j in range(5):\n",
    "        ax[i][j].set_title(f\"Label : {label[ax_idx]}\")\n",
    "        ax[i][j].imshow(data[ax_idx].permute(1, 2, 0), cmap='gray')\n",
    "        \n",
    "        ax_idx += 1"
   ]
  },
  {
   "attachments": {},
   "cell_type": "markdown",
   "metadata": {},
   "source": [
    "## Tugas 1"
   ]
  },
  {
   "cell_type": "code",
   "execution_count": 38,
   "metadata": {},
   "outputs": [],
   "source": [
    "class RegularCNN(nn.Module):\n",
    "    \"\"\"Some Information about RegualrCNN\"\"\"\n",
    "    def __init__(self, in_channel, out_channel):\n",
    "        super(RegularCNN, self).__init__()\n",
    "        self.conv1 = nn.Conv2d(in_channels=in_channel, out_channels=8, kernel_size=3, stride=1, padding='same', bias=False)\n",
    "        self.conv2 = nn.Conv2d(in_channels=8, out_channels=8, kernel_size=3, stride=1, padding='same', bias=False)\n",
    "        self.conv3 = nn.Conv2d(in_channels=8, out_channels=16, kernel_size=3, stride=1, padding='same', bias=False)\n",
    "        self.conv4 = nn.Conv2d(in_channels=16, out_channels=16, kernel_size=3, stride=1, padding='same', bias=False)\n",
    "        \n",
    "        self.bn1 = nn.BatchNorm2d(8)\n",
    "        self.bn2 = nn.BatchNorm2d(8)\n",
    "        self.bn3 = nn.BatchNorm2d(16)\n",
    "        self.bn4 = nn.BatchNorm2d(16)\n",
    "        \n",
    "        self.act = nn.LeakyReLU(0.1, inplace=True)\n",
    "        self.pool = nn.MaxPool2d(kernel_size=2, stride=2)\n",
    "        self.drop = nn.Dropout(0.2)\n",
    "        \n",
    "        self.fc = nn.Linear(in_features=784, out_features=out_channel, bias=True)\n",
    "\n",
    "    def forward(self, x):\n",
    "        x = self.conv1(x)\n",
    "        x = self.bn1(x)\n",
    "        x = self.act(x)\n",
    "        \n",
    "        x = self.conv2(x)\n",
    "        x = self.bn2(x)\n",
    "        x = self.act(x)\n",
    "        \n",
    "        x = self.drop(x)\n",
    "        x = self.pool(x)\n",
    "        \n",
    "        x = self.conv3(x)\n",
    "        x = self.bn3(x)\n",
    "        x = self.act(x)\n",
    "        \n",
    "        x = self.conv4(x)\n",
    "        x = self.bn4(x)\n",
    "        x = self.act(x)\n",
    "        \n",
    "        x = self.drop(x)\n",
    "        x = self.pool(x)\n",
    "        \n",
    "        x = x.flatten(start_dim=1)\n",
    "        x = self.fc(x)\n",
    "        \n",
    "        return x"
   ]
  },
  {
   "cell_type": "code",
   "execution_count": 39,
   "metadata": {},
   "outputs": [
    {
     "name": "stdout",
     "output_type": "stream",
     "text": [
      "Epoch [1/10]\n",
      "  Batch [78/235] Loss : 1.8612 Accuracy : 0.4350\n",
      "  Batch [156/235] Loss : 1.4452 Accuracy : 0.6147\n",
      "  Batch [234/235] Loss : 1.1753 Accuracy : 0.7039\n",
      "  Batch [235/235] Loss : 1.1723 Accuracy : 0.7049\n",
      "Epoch [2/10]\n",
      "  Batch [78/235] Loss : 0.4531 Accuracy : 0.9110\n",
      "  Batch [156/235] Loss : 0.4077 Accuracy : 0.9176\n",
      "  Batch [234/235] Loss : 0.3684 Accuracy : 0.9243\n",
      "  Batch [235/235] Loss : 0.3678 Accuracy : 0.9244\n",
      "Epoch [3/10]\n",
      "  Batch [78/235] Loss : 0.2556 Accuracy : 0.9425\n",
      "  Batch [156/235] Loss : 0.2375 Accuracy : 0.9465\n",
      "  Batch [234/235] Loss : 0.2260 Accuracy : 0.9476\n",
      "  Batch [235/235] Loss : 0.2258 Accuracy : 0.9476\n",
      "Epoch [4/10]\n",
      "  Batch [78/235] Loss : 0.1858 Accuracy : 0.9551\n",
      "  Batch [156/235] Loss : 0.1765 Accuracy : 0.9574\n",
      "  Batch [234/235] Loss : 0.1694 Accuracy : 0.9586\n",
      "  Batch [235/235] Loss : 0.1689 Accuracy : 0.9587\n",
      "Epoch [5/10]\n",
      "  Batch [78/235] Loss : 0.1450 Accuracy : 0.9635\n",
      "  Batch [156/235] Loss : 0.1399 Accuracy : 0.9651\n",
      "  Batch [234/235] Loss : 0.1356 Accuracy : 0.9659\n",
      "  Batch [235/235] Loss : 0.1355 Accuracy : 0.9658\n",
      "Epoch [6/10]\n",
      "  Batch [78/235] Loss : 0.1194 Accuracy : 0.9689\n",
      "  Batch [156/235] Loss : 0.1179 Accuracy : 0.9689\n",
      "  Batch [234/235] Loss : 0.1156 Accuracy : 0.9692\n",
      "  Batch [235/235] Loss : 0.1156 Accuracy : 0.9692\n",
      "Epoch [7/10]\n",
      "  Batch [78/235] Loss : 0.1017 Accuracy : 0.9730\n",
      "  Batch [156/235] Loss : 0.1024 Accuracy : 0.9721\n",
      "  Batch [234/235] Loss : 0.1011 Accuracy : 0.9723\n",
      "  Batch [235/235] Loss : 0.1009 Accuracy : 0.9724\n",
      "Epoch [8/10]\n",
      "  Batch [78/235] Loss : 0.0896 Accuracy : 0.9749\n",
      "  Batch [156/235] Loss : 0.0915 Accuracy : 0.9744\n",
      "  Batch [234/235] Loss : 0.0903 Accuracy : 0.9748\n",
      "  Batch [235/235] Loss : 0.0903 Accuracy : 0.9749\n",
      "Epoch [9/10]\n",
      "  Batch [78/235] Loss : 0.0828 Accuracy : 0.9769\n",
      "  Batch [156/235] Loss : 0.0830 Accuracy : 0.9764\n",
      "  Batch [234/235] Loss : 0.0821 Accuracy : 0.9767\n",
      "  Batch [235/235] Loss : 0.0819 Accuracy : 0.9768\n",
      "Epoch [10/10]\n",
      "  Batch [78/235] Loss : 0.0734 Accuracy : 0.9800\n",
      "  Batch [156/235] Loss : 0.0752 Accuracy : 0.9789\n",
      "  Batch [234/235] Loss : 0.0751 Accuracy : 0.9789\n",
      "  Batch [235/235] Loss : 0.0750 Accuracy : 0.9790\n",
      "Total training time  [10 epochs : 469.6229 Second]\n"
     ]
    }
   ],
   "source": [
    "np.random.seed(1)\n",
    "torch.random.manual_seed(1)\n",
    "\n",
    "cnn = RegularCNN(1, 10)\n",
    "criterion = nn.CrossEntropyLoss()\n",
    "optimizer = optim.Adam(cnn.parameters(), lr=1e-4)\n",
    "\n",
    "# loop over the dataset multiple times\n",
    "device = torch.device('cpu')\n",
    "max_train_batch = trainloader.__len__()\n",
    "\n",
    "start = time.time()\n",
    "epochs = 10\n",
    "for epoch in range(epochs):\n",
    "    print(f\"Epoch [{epoch+1}/{epochs}]\")\n",
    "    running_loss, running_accuracy = 0.0, 0.0\n",
    "    for i, data in enumerate(trainloader, 0):\n",
    "        inputs, labels = data\n",
    "        inputs, labels = inputs.to(device), labels.to(device)\n",
    "\n",
    "        # zero the parameter gradients\n",
    "        optimizer.zero_grad()\n",
    "\n",
    "        # forward + backward + optimize\n",
    "        outputs = cnn(inputs)\n",
    "        loss = criterion(outputs, labels)\n",
    "        loss.backward()\n",
    "        optimizer.step()\n",
    "        \n",
    "        with torch.no_grad():\n",
    "            batch_acc = torch.sum(torch.argmax(outputs, dim=1) == labels) / labels.shape[0]\n",
    "            running_accuracy += batch_acc.item()\n",
    "            running_loss += loss.item()\n",
    "            \n",
    "            if ((i + 1) % (max_train_batch // 3) == 0) or (i + 1) == max_train_batch:\n",
    "                print(f\"  Batch [{i+1}/{max_train_batch}] Loss : {running_loss / (i+1):.4f} Accuracy : {(running_accuracy / (i + 1)):.4f}\")\n",
    "\n",
    "end = time.time()\n",
    "print(f'Total training time  [{epochs} epochs : {(end - start):.4f} Second]')"
   ]
  },
  {
   "cell_type": "code",
   "execution_count": 29,
   "metadata": {},
   "outputs": [],
   "source": [
    "def testModel(loader, model, criterion, device):\n",
    "    model.eval()\n",
    "    running_loss = 0.0\n",
    "    running_accuracy = 0.0\n",
    "    max_batch = loader.__len__()\n",
    "    \n",
    "    with torch.no_grad():\n",
    "        for i, data in enumerate(loader, 0):\n",
    "            inputs, labels = data\n",
    "            inputs, labels = inputs.to(device), labels.to(device)\n",
    "\n",
    "            # forward only\n",
    "            outputs = model(inputs)\n",
    "            loss = criterion(outputs, labels)\n",
    "            \n",
    "            running_loss += loss.item()\n",
    "            outputs_argmax = torch.argmax(outputs, dim=1)\n",
    "            running_accuracy += (torch.sum(outputs_argmax ==  labels) / float(outputs.shape[0]))\n",
    "            \n",
    "    print(f'Loss: {running_loss / max_batch:.4f} Accuracy : {running_accuracy / max_batch:.4f}')"
   ]
  },
  {
   "cell_type": "code",
   "execution_count": 41,
   "metadata": {},
   "outputs": [
    {
     "name": "stdout",
     "output_type": "stream",
     "text": [
      "Training\n",
      "Loss: 0.0858 Accuracy : 0.9806\n",
      "Testing\n",
      "Loss: 0.0760 Accuracy : 0.9840\n"
     ]
    }
   ],
   "source": [
    "print(f\"Training\")\n",
    "testModel(loader=trainloader, model=cnn, criterion=criterion, device=torch.device('cpu'))\n",
    "print(f\"Testing\")\n",
    "testModel(loader=testloader, model=cnn, criterion=criterion, device=torch.device('cpu'))"
   ]
  },
  {
   "cell_type": "code",
   "execution_count": 92,
   "metadata": {},
   "outputs": [],
   "source": [
    "# torch.save(cnn.state_dict(), r'SavedModel/RegularCNN_10epoch.pt')"
   ]
  },
  {
   "attachments": {},
   "cell_type": "markdown",
   "metadata": {},
   "source": [
    "## Tugas 2"
   ]
  },
  {
   "attachments": {},
   "cell_type": "markdown",
   "metadata": {},
   "source": [
    "## 5 Layer - AlexNet"
   ]
  },
  {
   "cell_type": "code",
   "execution_count": 26,
   "metadata": {},
   "outputs": [],
   "source": [
    "from torchvision.models.alexnet import AlexNet\n",
    "torch.random.manual_seed(1)\n",
    "\n",
    "alexnet = AlexNet()\n",
    "# Feature Out : [Batch, 192, 2, 2]\n",
    "# Avgpool Out : [Batch, 192, 6, 6]\n",
    "alexnet.features = alexnet.features[:5]\n",
    "alexnet.classifier = nn.Sequential(\n",
    "                        nn.Flatten(start_dim=1),\n",
    "                        nn.Linear(in_features=192 * 6 * 6, out_features=32, bias=False), \n",
    "                        nn.BatchNorm1d(num_features=32),\n",
    "                        nn.LeakyReLU(0.1, inplace=True), \n",
    "                        nn.Linear(in_features=32, out_features=10),\n",
    "                    )\n",
    "\n",
    "for layer in alexnet.parameters():\n",
    "    layer.requires_grad = True\n",
    "\n",
    "finetuned_alexnet = nn.Sequential(\n",
    "                        nn.Conv2d(in_channels=1, out_channels=3, kernel_size=1, stride=1, padding='same'),\n",
    "                        alexnet\n",
    "                    )"
   ]
  },
  {
   "cell_type": "code",
   "execution_count": 27,
   "metadata": {},
   "outputs": [
    {
     "data": {
      "text/plain": [
       "Sequential(\n",
       "  (0): Conv2d(1, 3, kernel_size=(1, 1), stride=(1, 1), padding=same)\n",
       "  (1): AlexNet(\n",
       "    (features): Sequential(\n",
       "      (0): Conv2d(3, 64, kernel_size=(11, 11), stride=(4, 4), padding=(2, 2))\n",
       "      (1): ReLU(inplace=True)\n",
       "      (2): MaxPool2d(kernel_size=3, stride=2, padding=0, dilation=1, ceil_mode=False)\n",
       "      (3): Conv2d(64, 192, kernel_size=(5, 5), stride=(1, 1), padding=(2, 2))\n",
       "      (4): ReLU(inplace=True)\n",
       "    )\n",
       "    (avgpool): AdaptiveAvgPool2d(output_size=(6, 6))\n",
       "    (classifier): Sequential(\n",
       "      (0): Flatten(start_dim=1, end_dim=-1)\n",
       "      (1): Linear(in_features=6912, out_features=32, bias=False)\n",
       "      (2): BatchNorm1d(32, eps=1e-05, momentum=0.1, affine=True, track_running_stats=True)\n",
       "      (3): LeakyReLU(negative_slope=0.1, inplace=True)\n",
       "      (4): Linear(in_features=32, out_features=10, bias=True)\n",
       "    )\n",
       "  )\n",
       ")"
      ]
     },
     "execution_count": 27,
     "metadata": {},
     "output_type": "execute_result"
    }
   ],
   "source": [
    "finetuned_alexnet"
   ]
  },
  {
   "cell_type": "code",
   "execution_count": 28,
   "metadata": {},
   "outputs": [
    {
     "name": "stdout",
     "output_type": "stream",
     "text": [
      "Epoch [1/10]\n",
      "  Batch [78/235] Loss : 1.4243 Accuracy : 0.7705\n",
      "  Batch [156/235] Loss : 1.2610 Accuracy : 0.8369\n",
      "  Batch [234/235] Loss : 1.1542 Accuracy : 0.8701\n",
      "  Batch [235/235] Loss : 1.1530 Accuracy : 0.8704\n",
      "Epoch [2/10]\n",
      "  Batch [78/235] Loss : 0.8159 Accuracy : 0.9486\n",
      "  Batch [156/235] Loss : 0.7660 Accuracy : 0.9530\n",
      "  Batch [234/235] Loss : 0.7199 Accuracy : 0.9554\n",
      "  Batch [235/235] Loss : 0.7193 Accuracy : 0.9555\n",
      "Epoch [3/10]\n",
      "  Batch [78/235] Loss : 0.5523 Accuracy : 0.9666\n",
      "  Batch [156/235] Loss : 0.5213 Accuracy : 0.9681\n",
      "  Batch [234/235] Loss : 0.4927 Accuracy : 0.9696\n",
      "  Batch [235/235] Loss : 0.4923 Accuracy : 0.9696\n",
      "Epoch [4/10]\n",
      "  Batch [78/235] Loss : 0.3920 Accuracy : 0.9740\n",
      "  Batch [156/235] Loss : 0.3697 Accuracy : 0.9750\n",
      "  Batch [234/235] Loss : 0.3523 Accuracy : 0.9755\n",
      "  Batch [235/235] Loss : 0.3522 Accuracy : 0.9755\n",
      "Epoch [5/10]\n",
      "  Batch [78/235] Loss : 0.2846 Accuracy : 0.9795\n",
      "  Batch [156/235] Loss : 0.2721 Accuracy : 0.9795\n",
      "  Batch [234/235] Loss : 0.2610 Accuracy : 0.9801\n",
      "  Batch [235/235] Loss : 0.2609 Accuracy : 0.9801\n",
      "Epoch [6/10]\n",
      "  Batch [78/235] Loss : 0.2139 Accuracy : 0.9832\n",
      "  Batch [156/235] Loss : 0.2060 Accuracy : 0.9836\n",
      "  Batch [234/235] Loss : 0.1989 Accuracy : 0.9838\n",
      "  Batch [235/235] Loss : 0.1987 Accuracy : 0.9839\n",
      "Epoch [7/10]\n",
      "  Batch [78/235] Loss : 0.1666 Accuracy : 0.9860\n",
      "  Batch [156/235] Loss : 0.1622 Accuracy : 0.9858\n",
      "  Batch [234/235] Loss : 0.1567 Accuracy : 0.9857\n",
      "  Batch [235/235] Loss : 0.1568 Accuracy : 0.9856\n",
      "Epoch [8/10]\n",
      "  Batch [78/235] Loss : 0.1326 Accuracy : 0.9875\n",
      "  Batch [156/235] Loss : 0.1290 Accuracy : 0.9880\n",
      "  Batch [234/235] Loss : 0.1263 Accuracy : 0.9875\n",
      "  Batch [235/235] Loss : 0.1266 Accuracy : 0.9874\n",
      "Epoch [9/10]\n",
      "  Batch [78/235] Loss : 0.1068 Accuracy : 0.9895\n",
      "  Batch [156/235] Loss : 0.1052 Accuracy : 0.9895\n",
      "  Batch [234/235] Loss : 0.1033 Accuracy : 0.9896\n",
      "  Batch [235/235] Loss : 0.1033 Accuracy : 0.9896\n",
      "Epoch [10/10]\n",
      "  Batch [78/235] Loss : 0.0903 Accuracy : 0.9913\n",
      "  Batch [156/235] Loss : 0.0865 Accuracy : 0.9915\n",
      "  Batch [234/235] Loss : 0.0862 Accuracy : 0.9910\n",
      "  Batch [235/235] Loss : 0.0861 Accuracy : 0.9910\n",
      "Total training time  [10 epochs : 355.8210 Second]\n"
     ]
    }
   ],
   "source": [
    "criterion = nn.CrossEntropyLoss()\n",
    "optimizer = optim.Adam(finetuned_alexnet.parameters(), lr=1e-4)\n",
    "\n",
    "# loop over the dataset multiple times\n",
    "device = torch.device('cpu')\n",
    "max_train_batch = trainloader.__len__()\n",
    "\n",
    "start = time.time()\n",
    "epochs = 10\n",
    "for epoch in range(epochs):\n",
    "    print(f\"Epoch [{epoch+1}/{epochs}]\")\n",
    "    running_loss, running_accuracy = 0.0, 0.0\n",
    "    for i, data in enumerate(trainloader, 0):\n",
    "        inputs, labels = data\n",
    "        inputs, labels = inputs.to(device), labels.to(device)\n",
    "\n",
    "        # zero the parameter gradients\n",
    "        optimizer.zero_grad()\n",
    "        \n",
    "        # forward + backward + optimize\n",
    "        outputs = finetuned_alexnet(inputs)\n",
    "        \n",
    "        loss = criterion(outputs, labels)\n",
    "        loss.backward()\n",
    "        optimizer.step()\n",
    "        \n",
    "        with torch.no_grad():\n",
    "            batch_acc = torch.sum(torch.argmax(outputs, dim=1) == labels) / labels.shape[0]\n",
    "            running_accuracy += batch_acc.item()\n",
    "            running_loss += loss.item()\n",
    "            \n",
    "            if ((i + 1) % (max_train_batch // 3) == 0) or (i + 1) == max_train_batch:\n",
    "                print(f\"  Batch [{i+1}/{max_train_batch}] Loss : {running_loss / (i+1):.4f} Accuracy : {(running_accuracy / (i + 1)):.4f}\")\n",
    "\n",
    "end = time.time()\n",
    "print(f'Total training time  [{epochs} epochs : {(end - start):.4f} Second]')"
   ]
  },
  {
   "cell_type": "code",
   "execution_count": 30,
   "metadata": {},
   "outputs": [
    {
     "name": "stdout",
     "output_type": "stream",
     "text": [
      "Training\n",
      "Loss: 0.0791 Accuracy : 0.9929\n",
      "Testing\n",
      "Loss: 0.1023 Accuracy : 0.9839\n"
     ]
    }
   ],
   "source": [
    "print(f\"Training\")\n",
    "testModel(loader=trainloader, model=finetuned_alexnet, criterion=criterion, device=torch.device('cpu'))\n",
    "print(f\"Testing\")\n",
    "testModel(loader=testloader, model=finetuned_alexnet, criterion=criterion, device=torch.device('cpu'))"
   ]
  },
  {
   "attachments": {},
   "cell_type": "markdown",
   "metadata": {},
   "source": [
    "## All Layer - AlexNet"
   ]
  },
  {
   "cell_type": "code",
   "execution_count": 1,
   "metadata": {},
   "outputs": [],
   "source": [
    "import torch\n",
    "import torch.nn as nn\n",
    "import torch.nn.functional as F\n",
    "import torch.optim as optim\n",
    "from torchvision.datasets import MNIST\n",
    "from torch.utils.data import DataLoader\n",
    "from torchvision.transforms import transforms\n",
    "import numpy as np \n",
    "import matplotlib.pyplot as plt\n",
    "import time\n",
    "from torchsummary import summary"
   ]
  },
  {
   "cell_type": "code",
   "execution_count": 2,
   "metadata": {},
   "outputs": [
    {
     "data": {
      "image/png": "[encoded data removed]",
      "text/plain": [
       "<Figure size 1296x360 with 10 Axes>"
      ]
     },
     "metadata": {
      "needs_background": "light"
     },
     "output_type": "display_data"
    }
   ],
   "source": [
    "torch.random.manual_seed(1)\n",
    "\n",
    "compose = transforms.Compose([\n",
    "                transforms.ToTensor(),\n",
    "                transforms.Resize((64, 64)),\n",
    "                transforms.ColorJitter(brightness=0.5, contrast=0.2, saturation=0.2, hue=0.2), \n",
    "                transforms.Normalize(mean=(0.1307), std=(0.3079)),\n",
    "            ])\n",
    "\n",
    "mnist_train = MNIST(\n",
    "                root=r'mnist_dataset/train', \n",
    "                train=True, \n",
    "                transform=compose,\n",
    "                download=False\n",
    "            )\n",
    "\n",
    "mnist_test = MNIST(\n",
    "                root=r'mnist_dataset/test', \n",
    "                train=False, \n",
    "                transform=compose,\n",
    "                download=False\n",
    "            )\n",
    "\n",
    "trainloader = DataLoader(mnist_train, batch_size=64, shuffle=True)\n",
    "testloader = DataLoader(mnist_test, batch_size=64, shuffle=True)\n",
    "\n",
    "# Todo: get mean and std for normalization\n",
    "\n",
    "data, label = iter(trainloader).next()\n",
    "show = 10 # kelipatan 5\n",
    "ax_idx = 0\n",
    "fig, ax = plt.subplots(nrows=show//5, ncols=5, figsize=(18, 5))\n",
    "for i in range(show // 5): \n",
    "    for j in range(5):\n",
    "        ax[i][j].set_title(f\"Label : {label[ax_idx]}\")\n",
    "        ax[i][j].imshow(data[ax_idx].permute(1, 2, 0), cmap='gray')\n",
    "        \n",
    "        ax_idx += 1"
   ]
  },
  {
   "cell_type": "code",
   "execution_count": 3,
   "metadata": {},
   "outputs": [
    {
     "name": "stdout",
     "output_type": "stream",
     "text": [
      "True\n",
      "True\n",
      "False\n",
      "False\n",
      "False\n",
      "False\n",
      "False\n",
      "False\n",
      "False\n",
      "False\n",
      "False\n",
      "False\n",
      "True\n",
      "True\n",
      "True\n",
      "True\n",
      "True\n"
     ]
    }
   ],
   "source": [
    "from torchvision.models.alexnet import AlexNet\n",
    "torch.random.manual_seed(1)\n",
    "\n",
    "alexnet_full = AlexNet()\n",
    "\n",
    "for layer in alexnet_full.parameters():\n",
    "    layer.requires_grad = False\n",
    "    \n",
    "alexnet_full.features = alexnet_full.features\n",
    "alexnet_full.classifier = nn.Sequential(\n",
    "                            nn.Flatten(start_dim=1),\n",
    "                            nn.Dropout(0.2),\n",
    "                            nn.Linear(in_features=256 * 6 * 6, out_features=16, bias=False), \n",
    "                            nn.BatchNorm1d(num_features=16),\n",
    "                            nn.LeakyReLU(0.1, inplace=True), \n",
    "                            nn.Linear(in_features=16, out_features=10),\n",
    "                        )\n",
    "\n",
    "alexnet_2 = nn.Sequential(\n",
    "                nn.Conv2d(in_channels=1, out_channels=3, kernel_size=1, stride=1, padding='same'),\n",
    "                alexnet_full\n",
    "            )\n",
    "\n",
    "for layer in alexnet_2.parameters():\n",
    "    print(layer.requires_grad)"
   ]
  },
  {
   "cell_type": "code",
   "execution_count": 13,
   "metadata": {},
   "outputs": [
    {
     "name": "stdout",
     "output_type": "stream",
     "text": [
      "----------------------------------------------------------------\n",
      "        Layer (type)               Output Shape         Param #\n",
      "================================================================\n",
      "            Conv2d-1            [-1, 3, 64, 64]               6\n",
      "            Conv2d-2           [-1, 64, 15, 15]          23,296\n",
      "              ReLU-3           [-1, 64, 15, 15]               0\n",
      "         MaxPool2d-4             [-1, 64, 7, 7]               0\n",
      "            Conv2d-5            [-1, 192, 7, 7]         307,392\n",
      "              ReLU-6            [-1, 192, 7, 7]               0\n",
      "         MaxPool2d-7            [-1, 192, 3, 3]               0\n",
      "            Conv2d-8            [-1, 384, 3, 3]         663,936\n",
      "              ReLU-9            [-1, 384, 3, 3]               0\n",
      "           Conv2d-10            [-1, 256, 3, 3]         884,992\n",
      "             ReLU-11            [-1, 256, 3, 3]               0\n",
      "           Conv2d-12            [-1, 256, 3, 3]         590,080\n",
      "             ReLU-13            [-1, 256, 3, 3]               0\n",
      "        MaxPool2d-14            [-1, 256, 1, 1]               0\n",
      "AdaptiveAvgPool2d-15            [-1, 256, 6, 6]               0\n",
      "          Flatten-16                 [-1, 9216]               0\n",
      "          Dropout-17                 [-1, 9216]               0\n",
      "           Linear-18                   [-1, 16]         147,456\n",
      "      BatchNorm1d-19                   [-1, 16]              32\n",
      "        LeakyReLU-20                   [-1, 16]               0\n",
      "           Linear-21                   [-1, 10]             170\n",
      "          AlexNet-22                   [-1, 10]               0\n",
      "================================================================\n",
      "Total params: 2,617,360\n",
      "Trainable params: 147,664\n",
      "Non-trainable params: 2,469,696\n",
      "----------------------------------------------------------------\n",
      "Input size (MB): 0.02\n",
      "Forward/backward pass size (MB): 0.83\n",
      "Params size (MB): 9.98\n",
      "Estimated Total Size (MB): 10.83\n",
      "----------------------------------------------------------------\n"
     ]
    }
   ],
   "source": [
    "summary(alexnet_2, input_size=(1, 64, 64), device='cpu')"
   ]
  },
  {
   "cell_type": "code",
   "execution_count": 5,
   "metadata": {},
   "outputs": [
    {
     "name": "stdout",
     "output_type": "stream",
     "text": [
      "Total batch : 938\n",
      "Epoch [1/5]\n",
      "  Batch [312/938] Loss : 1.8020 Accuracy : 0.5017\n",
      "  Batch [624/938] Loss : 1.6491 Accuracy : 0.6037\n",
      "  Batch [936/938] Loss : 1.5367 Accuracy : 0.6596\n",
      "  Batch [938/938] Loss : 1.5360 Accuracy : 0.6599\n",
      "Epoch [2/5]\n",
      "  Batch [312/938] Loss : 1.1527 Accuracy : 0.8066\n",
      "  Batch [624/938] Loss : 1.0891 Accuracy : 0.8150\n",
      "  Batch [936/938] Loss : 1.0294 Accuracy : 0.8248\n",
      "  Batch [938/938] Loss : 1.0290 Accuracy : 0.8251\n",
      "Epoch [3/5]\n",
      "  Batch [312/938] Loss : 0.8164 Accuracy : 0.8541\n",
      "  Batch [624/938] Loss : 0.7809 Accuracy : 0.8577\n",
      "  Batch [936/938] Loss : 0.7470 Accuracy : 0.8616\n",
      "  Batch [938/938] Loss : 0.7468 Accuracy : 0.8616\n",
      "Epoch [4/5]\n",
      "  Batch [312/938] Loss : 0.6264 Accuracy : 0.8726\n",
      "  Batch [624/938] Loss : 0.5978 Accuracy : 0.8772\n",
      "  Batch [936/938] Loss : 0.5759 Accuracy : 0.8797\n",
      "  Batch [938/938] Loss : 0.5758 Accuracy : 0.8796\n",
      "Epoch [5/5]\n",
      "  Batch [312/938] Loss : 0.4974 Accuracy : 0.8878\n",
      "  Batch [624/938] Loss : 0.4858 Accuracy : 0.8885\n",
      "  Batch [936/938] Loss : 0.4752 Accuracy : 0.8896\n",
      "  Batch [938/938] Loss : 0.4754 Accuracy : 0.8894\n",
      "Total training time  [5 epochs : 500.2849 Second]\n"
     ]
    }
   ],
   "source": [
    "criterion = nn.CrossEntropyLoss()\n",
    "optimizer = optim.Adam(alexnet_2.parameters(), lr=1e-4)\n",
    "\n",
    "# loop over the dataset multiple times\n",
    "device = torch.device('cpu')\n",
    "max_train_batch = trainloader.__len__()\n",
    "print(f'Total batch : {max_train_batch}')\n",
    "start = time.time()\n",
    "epochs = 5\n",
    "for epoch in range(epochs):\n",
    "    print(f\"Epoch [{epoch+1}/{epochs}]\")\n",
    "    running_loss, running_accuracy = 0.0, 0.0\n",
    "    for i, data in enumerate(trainloader, 0):\n",
    "        inputs, labels = data\n",
    "        inputs, labels = inputs.to(device), labels.to(device)\n",
    "\n",
    "        # zero the parameter gradients\n",
    "        optimizer.zero_grad()\n",
    "        \n",
    "        # forward + backward + optimize\n",
    "        outputs = alexnet_2(inputs)\n",
    "        \n",
    "        loss = criterion(outputs, labels)\n",
    "        loss.backward()\n",
    "        optimizer.step()\n",
    "        \n",
    "        with torch.no_grad():\n",
    "            batch_acc = torch.sum(torch.argmax(outputs, dim=1) == labels) / labels.shape[0]\n",
    "            running_accuracy += batch_acc.item()\n",
    "            running_loss += loss.item()\n",
    "            \n",
    "            if ((i + 1) % (max_train_batch // 3) == 0) or (i + 1) == max_train_batch:\n",
    "                print(f\"  Batch [{i+1}/{max_train_batch}] Loss : {running_loss / (i+1):.4f} Accuracy : {(running_accuracy / (i + 1)):.4f}\")\n",
    "\n",
    "end = time.time()\n",
    "print(f'Total training time  [{epochs} epochs : {(end - start):.4f} Second]')"
   ]
  }
 ],
 "metadata": {
  "kernelspec": {
   "display_name": "Python 3",
   "language": "python",
   "name": "python3"
  },
  "language_info": {
   "codemirror_mode": {
    "name": "ipython",
    "version": 3
   },
   "file_extension": ".py",
   "mimetype": "text/x-python",
   "name": "python",
   "nbconvert_exporter": "python",
   "pygments_lexer": "ipython3",
   "version": "3.8.0"
  },
  "orig_nbformat": 4
 },
 "nbformat": 4,
 "nbformat_minor": 2
}
